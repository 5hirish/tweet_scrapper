{
 "cells": [
  {
   "cell_type": "markdown",
   "metadata": {},
   "source": [
    "# T-SNE Interactive Visualization"
   ]
  },
  {
   "cell_type": "code",
   "execution_count": 1,
   "metadata": {},
   "outputs": [],
   "source": [
    "from gensim.corpora import Dictionary, MmCorpus\n",
    "from gensim.models.ldamodel import LdaModel"
   ]
  },
  {
   "cell_type": "code",
   "execution_count": 2,
   "metadata": {},
   "outputs": [],
   "source": [
    "tweets_dict = Dictionary.load('dictionary_tweets.dict')\n",
    "tweets_corpus = MmCorpus('corpus_tweets.mm')\n",
    "tweets_lda = LdaModel.load('lda_tweet.model')"
   ]
  },
  {
   "cell_type": "code",
   "execution_count": 3,
   "metadata": {},
   "outputs": [
    {
     "data": {
      "text/plain": [
       "[(0,\n",
       "  '0.018*\"year\" + 0.014*\"talk\" + 0.013*\"thei\" + 0.012*\"wa\" + 0.010*\"care\" + 0.009*\"love\" + 0.009*\"like\" + 0.009*\"work\" + 0.009*\"chang\" + 0.008*\"great\"'),\n",
       " (1,\n",
       "  '0.018*\"trump\" + 0.014*\"hi\" + 0.010*\"know\" + 0.009*\"nation\" + 0.008*\"question\" + 0.008*\"sai\" + 0.008*\"white\" + 0.008*\"ha\" + 0.008*\"dai\" + 0.007*\"onli\"'),\n",
       " (2,\n",
       "  '0.016*\"ai\" + 0.014*\"data\" + 0.014*\"releas\" + 0.012*\"spaci\" + 0.011*\"python\" + 0.011*\"open\" + 0.010*\"model\" + 0.010*\"like\" + 0.010*\"nlp\" + 0.009*\"wa\"')]"
      ]
     },
     "execution_count": 3,
     "metadata": {},
     "output_type": "execute_result"
    }
   ],
   "source": [
    "tweets_lda.show_topics()"
   ]
  },
  {
   "cell_type": "code",
   "execution_count": 14,
   "metadata": {},
   "outputs": [],
   "source": [
    "from collections import OrderedDict\n",
    "import numpy as np\n",
    "\n",
    "lda_corpus = tweets_lda[tweets_corpus]\n",
    "num_topics = 3\n",
    "\n",
    "def get_doc_topic_dist(model, corpus, kwords=False):\n",
    "    \n",
    "    '''\n",
    "    LDA transformation, for each doc only returns topics with non-zero weight\n",
    "    This function makes a matrix transformation of docs in the topic space.\n",
    "    '''\n",
    "    top_dist =[]\n",
    "    keys = []\n",
    "\n",
    "    for d in corpus:\n",
    "        tmp = {i:0 for i in range(num_topics)}\n",
    "        tmp.update(dict(model[d]))\n",
    "        vals = list(OrderedDict(tmp).values())\n",
    "        top_dist += [np.array(vals)]\n",
    "        if kwords:\n",
    "            keys += [np.array(vals).argmax()]\n",
    "\n",
    "    return np.array(top_dist), keys\n",
    "\n",
    "top_dist, lda_keys= get_doc_topic_dist(tweets_lda, tweets_corpus, True)"
   ]
  },
  {
   "cell_type": "code",
   "execution_count": 15,
   "metadata": {},
   "outputs": [
    {
     "name": "stdout",
     "output_type": "stream",
     "text": [
      "[t-SNE] Computing 91 nearest neighbors...\n",
      "[t-SNE] Indexed 788 samples in 0.001s...\n",
      "[t-SNE] Computed neighbors for 788 samples in 0.009s...\n",
      "[t-SNE] Computed conditional probabilities for sample 788 / 788\n",
      "[t-SNE] Mean sigma: 0.000000\n",
      "[t-SNE] KL divergence after 250 iterations with early exaggeration: 46.890472\n",
      "[t-SNE] Error after 1000 iterations: 0.193966\n"
     ]
    }
   ],
   "source": [
    "from sklearn.manifold import TSNE\n",
    "\n",
    "tsne_model = TSNE(n_components=2, verbose=1, random_state=0, angle=.99, init='pca')\n",
    "\n",
    "tsne_lda = tsne_model.fit_transform(top_dist)"
   ]
  },
  {
   "cell_type": "code",
   "execution_count": null,
   "metadata": {},
   "outputs": [],
   "source": [
    "import bokeh.plotting as bp\n",
    "from bokeh.plotting import save\n",
    "from bokeh.models import HoverTool\n",
    "\n",
    "colormap = {0: 'blue', 1:'green', 2: 'yellow'}"
   ]
  }
 ],
 "metadata": {
  "kernelspec": {
   "display_name": "Python 3",
   "language": "python",
   "name": "python3"
  },
  "language_info": {
   "codemirror_mode": {
    "name": "ipython",
    "version": 3
   },
   "file_extension": ".py",
   "mimetype": "text/x-python",
   "name": "python",
   "nbconvert_exporter": "python",
   "pygments_lexer": "ipython3",
   "version": "3.5.5"
  }
 },
 "nbformat": 4,
 "nbformat_minor": 2
}
