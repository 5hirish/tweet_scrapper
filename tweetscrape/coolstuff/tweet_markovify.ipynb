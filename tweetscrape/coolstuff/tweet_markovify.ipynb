{
 "cells": [
  {
   "cell_type": "markdown",
   "metadata": {},
   "source": [
    "# Generating Tweets using Markov Chains\n",
    "We will use the **tweetscrapper** module here to generate tweets using Markov chains. I have used the `tweet_driver.py` script to extract my tweets and store them in an SQLite database. Let us install some dependencies:\n",
    "```\n",
    "pip install tweetscrape\n",
    "pip install markovify\n",
    "```\n",
    "### What are Markov Chains ?\n",
    "It is a case of weighted automata where the input determines transition state. Markov chains are useful for assigning probabilities to unambiguous sequences. In a first-order Markov chain, the probability of a particular state depends only on the previous state."
   ]
  },
  {
   "cell_type": "code",
   "execution_count": 5,
   "metadata": {},
   "outputs": [],
   "source": [
    "import markovify\n",
    "import re\n",
    "\n",
    "from tweetscrape.coolstuff.db_helper import SQLiteHelper"
   ]
  },
  {
   "cell_type": "code",
   "execution_count": 6,
   "metadata": {},
   "outputs": [
    {
     "name": "stdout",
     "output_type": "stream",
     "text": [
      "Extracted 788 tweets\n",
      "[(808418796058869761, 'tweet', 'photomatt', 13479, 1481577035000, '  State of the Word,\\xa02016https://ma.tt/2016/12/state-of-the-word-2016/\\xa0…', '[\"https://t.co/hcUtziNYKQ\"]', '[]', '[]', 5, 137, 49), (811950723055357952, 'tweet', 'droidconIN', 337801138, 1482419112000, '  Considering doing a rewrite of your Android app?@AdnanM0123 from @bookmyshow shares their experience and insights.http://hsgk.in/2hYoAlR\\xa0pic.twitter.com/4IulVFOrNM', '[\"https://t.co/st5xbQd8sO\", \"https://t.co/4IulVFOrNM\"]', '[]', '[\"@AdnanM0123\", \"@bookmyshow\"]', 0, 9, 6), (812662401480830976, 'tweet', '5hirish', 428808036, 1482588789000, '  Dependency #Parsing Tutorial in #NLP using @spacy_io #spacy #nltk @honnibal #python @nlp_storieshttps://shirishkadam.com/2016/12/23/dependency-parsing-in-nlp/\\xa0…', '[\"https://t.co/muuDf53uCg\"]', '[\"#Parsing\", \"#NLP\", \"#spacy\", \"#nltk\", \"#python\"]', '[\"@spacy_io\", \"@honnibal\", \"@nlp_stories\"]', 0, 32, 18)]\n"
     ]
    }
   ],
   "source": [
    "sqlite = SQLiteHelper()\n",
    "fetched_tweets = sqlite.get_all_tweets()\n",
    "print(\"Extracted {0} tweets\".format(len(fetched_tweets)))\n",
    "print(fetched_tweets[0:3])"
   ]
  },
  {
   "cell_type": "markdown",
   "metadata": {},
   "source": [
    "Before generating the tweets let us remove all the external links from the tweets. Since our corpora is quite we might get some incomprehensible tweets."
   ]
  },
  {
   "cell_type": "code",
   "execution_count": 4,
   "metadata": {},
   "outputs": [
    {
     "name": "stdout",
     "output_type": "stream",
     "text": [
      "\n",
      "Auto-Generated Tweet 0: Everything about this is going to be president or America's Czar of Hate?\n",
      "\n",
      "Auto-Generated Tweet 1: From the man who conducted the deadliest mass shooting after another...nothing.\n",
      "\n",
      "Auto-Generated Tweet 2: 384 pages of deep gratitude to Tesla owners WW for taking the time comes when you thought...\n",
      "\n",
      "Auto-Generated Tweet 3: The Android Studio 3.0 Canary 4 was just released AllenNLP 0.3, a new car company.\n",
      "\n",
      "Auto-Generated Tweet 4: Introducing Prodigy – a new venue for #pyconpune 2017, more details about how @spacy_io does parsing and NER in v2.0.\n"
     ]
    }
   ],
   "source": [
    "tweets_text = ''\n",
    "for tweet in fetched_tweets:\n",
    "    tweets_text = tweets_text+'\\n'+tweet[5]\n",
    "\n",
    "links_pattern = re.compile('(http[^\\s]+)')\n",
    "tweets_text = links_pattern.sub(' ', tweets_text)\n",
    "pics_pattern = re.compile('(pic.twitter.com/[^\\s]+)')\n",
    "tweets_text = pics_pattern.sub(' ', tweets_text)\n",
    "    \n",
    "tweet_model = markovify.Text(tweets_text)\n",
    "for i in range(5):\n",
    "    print(\"\\nAuto-Generated Tweet {0}: {1}\".format(i, tweet_model.make_short_sentence(140)))\n"
   ]
  }
 ],
 "metadata": {
  "kernelspec": {
   "display_name": "Python 3",
   "language": "python",
   "name": "python3"
  },
  "language_info": {
   "codemirror_mode": {
    "name": "ipython",
    "version": 3
   },
   "file_extension": ".py",
   "mimetype": "text/x-python",
   "name": "python",
   "nbconvert_exporter": "python",
   "pygments_lexer": "ipython3",
   "version": "3.5.5"
  }
 },
 "nbformat": 4,
 "nbformat_minor": 2
}
